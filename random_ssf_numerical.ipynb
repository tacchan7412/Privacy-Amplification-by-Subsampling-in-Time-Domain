{
 "cells": [
  {
   "cell_type": "code",
   "execution_count": null,
   "metadata": {},
   "outputs": [],
   "source": [
    "import numpy as np\n",
    "import scipy as sc\n",
    "import matplotlib.pyplot as plt\n",
    "import matplotlib\n",
    "from scipy.special import comb\n",
    "import os\n",
    "\n",
    "import mechanism as mc\n",
    "import filtering\n",
    "\n",
    "%matplotlib inline\n",
    "np.set_printoptions(precision=4)"
   ]
  },
  {
   "cell_type": "code",
   "execution_count": null,
   "metadata": {},
   "outputs": [],
   "source": [
    "plt.rcParams['font.family'] = 'Times New Roman'\n",
    "plt.rcParams[\"mathtext.fontset\"] = \"stix\" \n",
    "matplotlib.rcParams['text.usetex'] = True\n",
    "plt.rcParams[\"font.size\"] = 12\n",
    "plt.rcParams['axes.linewidth'] = 1.0\n",
    "plt.rcParams['axes.grid'] = True\n",
    "del matplotlib.font_manager.weight_dict['roman']\n",
    "matplotlib.font_manager._rebuild()\n",
    "\n",
    "plt.rcParams['xtick.direction'] = 'in'\n",
    "plt.rcParams['ytick.direction'] = 'in'#\n",
    "plt.rcParams['image.cmap'] = 'viridis'\n",
    "\n",
    "plt.rcParams[\"errorbar.capsize\"] = 2.0 # error bar"
   ]
  },
  {
   "cell_type": "code",
   "execution_count": null,
   "metadata": {},
   "outputs": [],
   "source": [
    "T = 10**4\n",
    "I = T//10\n",
    "\n",
    "std = 10\n",
    "\n",
    "h = filtering.get_h('gaussian', T, std=std)\n",
    "A = filtering.get_circular(h)\n",
    "L = sum(h**2)\n",
    "sr = mc.srank_circular(h)"
   ]
  },
  {
   "cell_type": "code",
   "execution_count": null,
   "metadata": {},
   "outputs": [],
   "source": [
    "plt.figure(figsize=(10,5))\n",
    "alphas = np.linspace(0.4,1,101)\n",
    "for p in [0.5, 0.2, 0.1, 0.05, 0.02, 0.01]:\n",
    "    res = []\n",
    "    for alpha in alphas:\n",
    "        a = (alpha**2) / p\n",
    "        res.append(min(2*sr*((np.exp(a-1))/(a**a))**(p/L),1))\n",
    "    plt.plot(alphas, res, label=r\"$p={p}$\".format(p=p))\n",
    "plt.yscale('log')\n",
    "plt.xlabel(r'$\\alpha$', fontsize=15)\n",
    "plt.ylabel(r'$\\delta^\\prime$', fontsize=15)\n",
    "\n",
    "plt.ylim((10**-20, 5))\n",
    "plt.xlim((0.4, 1.0))\n",
    "plt.legend()"
   ]
  }
 ],
 "metadata": {
  "kernelspec": {
   "display_name": "Python 3",
   "language": "python",
   "name": "python3"
  },
  "language_info": {
   "codemirror_mode": {
    "name": "ipython",
    "version": 3
   },
   "file_extension": ".py",
   "mimetype": "text/x-python",
   "name": "python",
   "nbconvert_exporter": "python",
   "pygments_lexer": "ipython3",
   "version": "3.9.0"
  }
 },
 "nbformat": 4,
 "nbformat_minor": 2
}
