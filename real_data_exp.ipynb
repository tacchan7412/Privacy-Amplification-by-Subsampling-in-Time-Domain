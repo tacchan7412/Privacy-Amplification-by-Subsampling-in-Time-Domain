{
 "cells": [
  {
   "cell_type": "code",
   "execution_count": null,
   "metadata": {},
   "outputs": [],
   "source": [
    "import numpy as np\n",
    "import matplotlib.pyplot as plt\n",
    "import matplotlib\n",
    "import os\n",
    "\n",
    "import mechanism as mc\n",
    "import filtering\n",
    "\n",
    "%matplotlib inline\n",
    "np.set_printoptions(precision=4)"
   ]
  },
  {
   "cell_type": "code",
   "execution_count": null,
   "metadata": {},
   "outputs": [],
   "source": [
    "plt.rcParams['font.family'] = 'Times New Roman'\n",
    "plt.rcParams[\"mathtext.fontset\"] = \"stix\" \n",
    "plt.rcParams[\"font.size\"] = 12\n",
    "plt.rcParams['axes.linewidth'] = 1.0\n",
    "plt.rcParams['axes.grid'] = True\n",
    "del matplotlib.font_manager.weight_dict['roman']\n",
    "matplotlib.font_manager._rebuild()\n",
    "\n",
    "plt.rcParams['xtick.direction'] = 'in'\n",
    "plt.rcParams['ytick.direction'] = 'in'\n",
    "plt.rcParams['image.cmap'] = 'viridis'\n",
    "\n",
    "plt.rcParams[\"errorbar.capsize\"] = 2.0 # error bar"
   ]
  },
  {
   "cell_type": "code",
   "execution_count": null,
   "metadata": {},
   "outputs": [],
   "source": [
    "def MAE(x, y):\n",
    "    return np.mean(np.abs(x-y))"
   ]
  },
  {
   "cell_type": "markdown",
   "metadata": {},
   "source": [
    "# Foursquare"
   ]
  },
  {
   "cell_type": "code",
   "execution_count": null,
   "metadata": {},
   "outputs": [],
   "source": [
    "txt_dir = 'data/Foursquare'\n",
    "checkin_df = pd.read_csv(os.path.join(txt_dir, 'dataset_TIST2015_Checkins.txt'), sep=\"\\t\", header=None)\n",
    "checkin_df.columns = ['user_id', 'venue_id', 'timestamp', 'timezone_offset']\n",
    "\n",
    "checkin_df_venue = checkin_df[checkin_df['venue_id'] == '4b49cb0ff964a520b67326e3']\n",
    "checkin_df_venue['timestamp'] = pd.to_datetime(checkin_df_venue['timestamp'])\n",
    "checkin_df_venue['modified_timestamp'] = checkin_df_venue['timestamp'] + pd.to_timedelta(checkin_df_venue['timezone_offset'], unit='m')\n",
    "data = checkin_df_venue.groupby(pd.Grouper(key='modified_timestamp', freq='6H')).size().values"
   ]
  },
  {
   "cell_type": "code",
   "execution_count": null,
   "metadata": {},
   "outputs": [],
   "source": [
    "T = len(data)\n",
    "I = int(T*0.1)\n",
    "k = 10\n",
    "x = data[:T]\n",
    "\n",
    "std = 10\n",
    "\n",
    "h = filtering.get_h('gaussian', T, std=std)\n",
    "A = filtering.get_circular(h)\n",
    "L = sum(h**2)\n",
    "sr = mc.srank_circular(h)"
   ]
  },
  {
   "cell_type": "code",
   "execution_count": null,
   "metadata": {
    "scrolled": false
   },
   "outputs": [],
   "source": [
    "trial = 1000\n",
    "eps = 0.5\n",
    "delta = 10**-4\n",
    "l2_sens = np.sqrt(I)\n",
    "\n",
    "res_z = []\n",
    "res_zss = []\n",
    "res_zfss = []\n",
    "res_zdft = []\n",
    "for _ in range(trial):\n",
    "    z = mc.gaussian(x, eps, delta, l2_sens).clip(min=0)\n",
    "    zss = mc.ss_gaussian(x, eps, delta, I, k, interpolate_kind='linear').clip(min=0)\n",
    "    zfss = mc.ssf_gaussian(x, A, eps, delta, l2_sens, k, sr=sr, L=L, interpolate_kind='linear').clip(min=0)\n",
    "    zdft = mc.dft_gaussian(x, eps, delta, l2_sens, k=30).clip(min=0)\n",
    "    res_z.append(MAE(x, z))\n",
    "    res_zss.append(MAE(x, zss))\n",
    "    res_zfss.append(MAE(x, zfss))\n",
    "    res_zdft.append(MAE(x, zdft))\n",
    "\n",
    "for (res, label) in zip([res_z, res_zdft, res_zss, res_zfss],['Gaussian', 'DFT', 'Ours w/o filter', 'Ours w/ filter']):\n",
    "    print(label, ':', np.mean(res), np.std(res))"
   ]
  },
  {
   "cell_type": "markdown",
   "metadata": {},
   "source": [
    "# Gowalla"
   ]
  },
  {
   "cell_type": "code",
   "execution_count": null,
   "metadata": {},
   "outputs": [],
   "source": [
    "txt_dir = 'data/Gowalla'\n",
    "checkin_df = pd.read_csv(os.path.join(txt_dir, 'loc-gowalla_totalCheckins.txt'), sep=\"\\t\", header=None)\n",
    "checkin_df.columns = ['user_id', 'timestamp', 'latitude', 'longitude', 'location_id']\n",
    "checkin_df_venue = checkin_df[checkin_df['location_id'] == 55033]\n",
    "checkin_df_venue['timestamp'] = pd.to_datetime(checkin_df_venue['timestamp'])\n",
    "data = checkin_df_venue.groupby(pd.Grouper(key='timestamp', freq='12H')).size().values"
   ]
  },
  {
   "cell_type": "code",
   "execution_count": null,
   "metadata": {},
   "outputs": [],
   "source": [
    "T = len(data)\n",
    "I = int(T*0.1)\n",
    "k = 10\n",
    "x = data[:T]\n",
    "\n",
    "std = 10\n",
    "\n",
    "h = filtering.get_h('gaussian', T, std=std)\n",
    "A = filtering.get_circular(h)\n",
    "L = sum(h**2)\n",
    "sr = mc.srank_circular(h)"
   ]
  },
  {
   "cell_type": "code",
   "execution_count": null,
   "metadata": {},
   "outputs": [],
   "source": [
    "trial = 1000\n",
    "eps = 0.5\n",
    "delta = 10**-4\n",
    "\n",
    "l2_sens = np.sqrt(I)\n",
    "\n",
    "res_z = []\n",
    "res_zss = []\n",
    "res_zfss = []\n",
    "res_zdft = []\n",
    "for _ in range(trial):\n",
    "    z = mc.gaussian(x, eps, delta, l2_sens).clip(min=0)\n",
    "    zss = mc.ss_gaussian(x, eps, delta, I, k, interpolate_kind='linear').clip(min=0)\n",
    "    zfss = mc.ssf_gaussian(x, A, eps, delta, l2_sens, k, sr=sr, L=L, interpolate_kind='linear').clip(min=0)\n",
    "    zdft = mc.dft_gaussian(x, eps, delta, l2_sens, k=30).clip(min=0)\n",
    "    res_z.append(MAE(x, z))\n",
    "    res_zss.append(MAE(x, zss))\n",
    "    res_zfss.append(MAE(x, zfss))\n",
    "    res_zdft.append(MAE(x, zdft))\n",
    "\n",
    "for (res, label) in zip([res_z, res_zdft, res_zss, res_zfss],['Gaussian', 'DFT', 'Ours w/o filter', 'Ours w/ filter']):\n",
    "    print(label, ':', np.mean(res), np.std(res))"
   ]
  },
  {
   "cell_type": "markdown",
   "metadata": {},
   "source": [
    "# PeMS"
   ]
  },
  {
   "cell_type": "code",
   "execution_count": null,
   "metadata": {},
   "outputs": [],
   "source": [
    "df = pd.read_hdf('data/PEMS/pems-bay-flow.h5')\n",
    "data = df.values.T\n",
    "data = data[0]"
   ]
  },
  {
   "cell_type": "code",
   "execution_count": null,
   "metadata": {},
   "outputs": [],
   "source": [
    "T = 1800\n",
    "I = int(T*0.1)\n",
    "k = 10\n",
    "x = data[:T]\n",
    "\n",
    "std = 10\n",
    "\n",
    "h = filtering.get_h('gaussian', T, std=std)\n",
    "A = filtering.get_circular(h)\n",
    "L = sum(h**2)\n",
    "sr = mc.srank_circular(h)"
   ]
  },
  {
   "cell_type": "code",
   "execution_count": null,
   "metadata": {},
   "outputs": [],
   "source": [
    "trial = 1000\n",
    "eps = 0.5\n",
    "delta = 10**-4\n",
    "l2_sens = np.sqrt(I)\n",
    "\n",
    "res_z = []\n",
    "res_zss = []\n",
    "res_zfss = []\n",
    "res_zdft = []\n",
    "for _ in range(trial):\n",
    "    z = mc.gaussian(x, eps, delta, l2_sens)\n",
    "    zss = mc.ss_gaussian(x, eps, delta, I, k, interpolate_kind='linear')\n",
    "    zfss = mc.ssf_gaussian(x, A, eps, delta, l2_sens, k, sr=sr, L=L, interpolate_kind='linear')\n",
    "    zdft = mc.dft_gaussian(x, eps, delta, l2_sens, k=30)\n",
    "    res_z.append(MAE(x, z))\n",
    "    res_zss.append(MAE(x, zss))\n",
    "    res_zfss.append(MAE(x, zfss))\n",
    "    res_zdft.append(MAE(x, zdft))\n",
    "\n",
    "for (res, label) in zip([res_z, res_zdft, res_zss, res_zfss],['Gaussian', 'DFT', 'Ours w/o filter', 'Ours w/ filter']):\n",
    "    print(label, ':', np.mean(res), np.std(res))"
   ]
  }
 ],
 "metadata": {
  "kernelspec": {
   "display_name": "Python 3",
   "language": "python",
   "name": "python3"
  },
  "language_info": {
   "codemirror_mode": {
    "name": "ipython",
    "version": 3
   },
   "file_extension": ".py",
   "mimetype": "text/x-python",
   "name": "python",
   "nbconvert_exporter": "python",
   "pygments_lexer": "ipython3",
   "version": "3.7.0"
  }
 },
 "nbformat": 4,
 "nbformat_minor": 5
}
