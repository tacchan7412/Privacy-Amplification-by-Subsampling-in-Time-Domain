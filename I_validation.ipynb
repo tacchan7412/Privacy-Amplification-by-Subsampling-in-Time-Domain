{
 "cells": [
  {
   "cell_type": "code",
   "execution_count": null,
   "id": "embedded-dance",
   "metadata": {},
   "outputs": [],
   "source": [
    "import numpy as np\n",
    "import matplotlib.pyplot as plt\n",
    "from prettytable import PrettyTable\n",
    "import pandas as pd\n",
    "import os\n",
    "\n",
    "%matplotlib inline\n",
    "np.set_printoptions(precision=4)"
   ]
  },
  {
   "cell_type": "markdown",
   "id": "heavy-cable",
   "metadata": {},
   "source": [
    "# Foursquare"
   ]
  },
  {
   "cell_type": "code",
   "execution_count": null,
   "id": "meaningful-pennsylvania",
   "metadata": {},
   "outputs": [],
   "source": [
    "txt_dir = 'data/Foursquare'\n",
    "checkin_df = pd.read_csv(os.path.join(txt_dir, 'dataset_TIST2015_Checkins.txt'), sep=\"\\t\", header=None)\n",
    "checkin_df.columns = ['user_id', 'venue_id', 'timestamp', 'timezone_offset']\n",
    "checkin_cnt_by_venue = checkin_df.groupby('venue_id').size().reset_index(name='counts')\n",
    "n = 15\n",
    "top_n_venues_df = checkin_cnt_by_venue.sort_values(by='counts', ascending=False).head(n=n)\n",
    "top_n_venues_df"
   ]
  },
  {
   "cell_type": "code",
   "execution_count": null,
   "id": "upper-vault",
   "metadata": {},
   "outputs": [],
   "source": [
    "pt = PrettyTable()\n",
    "pt.field_names = ['venue', 'max', 'mean', 'total']\n",
    "pt.float_format = '.3'\n",
    "\n",
    "table = []\n",
    "\n",
    "for i, (venue, count) in enumerate(top_n_venues_df.values):\n",
    "    counts_df = checkin_df[checkin_df['venue_id'] == venue].groupby('user_id').size()\n",
    "    pt.add_row([venue, counts_df.max(), counts_df.mean(), count])\n",
    "    table.append([i+1, counts_df.max()])\n",
    "    \n",
    "print(pt)"
   ]
  },
  {
   "cell_type": "markdown",
   "id": "entire-sarah",
   "metadata": {},
   "source": [
    "# Gowalla"
   ]
  },
  {
   "cell_type": "code",
   "execution_count": null,
   "id": "limited-cloud",
   "metadata": {},
   "outputs": [],
   "source": [
    "txt_dir = 'data/Gowalla'\n",
    "checkin_df = pd.read_csv(os.path.join(txt_dir, 'loc-gowalla_totalCheckins.txt'), sep=\"\\t\", header=None)\n",
    "checkin_df.columns = ['user_id', 'timestamp', 'latitude', 'longitude', 'location_id']\n",
    "checkin_cnt_by_venue = checkin_df.groupby('location_id').size().reset_index(name='counts')\n",
    "n = 15\n",
    "top_n_venues_df = checkin_cnt_by_venue.sort_values(by='counts', ascending=False).head(n=n)\n",
    "top_n_venues_df"
   ]
  },
  {
   "cell_type": "code",
   "execution_count": null,
   "id": "sonic-questionnaire",
   "metadata": {},
   "outputs": [],
   "source": [
    "pt = PrettyTable()\n",
    "pt.field_names = ['venue', 'max', 'mean', 'total']\n",
    "pt.float_format = '.3'\n",
    "\n",
    "table = []\n",
    "\n",
    "for i, (venue, count) in enumerate(top_n_venues_df.values):\n",
    "    counts_df = checkin_df[checkin_df['location_id'] == venue].groupby('user_id').size()\n",
    "    pt.add_row([venue, counts_df.max(), counts_df.mean(), count])\n",
    "    table.append([i+1, counts_df.max()])\n",
    "    \n",
    "print(pt)"
   ]
  }
 ],
 "metadata": {
  "kernelspec": {
   "display_name": "Python 3",
   "language": "python",
   "name": "python3"
  },
  "language_info": {
   "codemirror_mode": {
    "name": "ipython",
    "version": 3
   },
   "file_extension": ".py",
   "mimetype": "text/x-python",
   "name": "python",
   "nbconvert_exporter": "python",
   "pygments_lexer": "ipython3",
   "version": "3.9.0"
  }
 },
 "nbformat": 4,
 "nbformat_minor": 5
}
